{
  "nbformat": 4,
  "nbformat_minor": 0,
  "metadata": {
    "colab": {
      "name": "word2vec-id",
      "provenance": [],
      "collapsed_sections": [],
      "include_colab_link": true
    },
    "kernelspec": {
      "name": "python3",
      "display_name": "Python 3"
    },
    "accelerator": "GPU"
  },
  "cells": [
    {
      "cell_type": "markdown",
      "metadata": {
        "id": "view-in-github",
        "colab_type": "text"
      },
      "source": [
        "<a href=\"https://colab.research.google.com/github/nerudesu/word2vec_id/blob/master/word2vec_id.ipynb\" target=\"_parent\"><img src=\"https://colab.research.google.com/assets/colab-badge.svg\" alt=\"Open In Colab\"/></a>"
      ]
    },
    {
      "cell_type": "markdown",
      "metadata": {
        "id": "JIIGaKcFevBb",
        "colab_type": "text"
      },
      "source": [
        "*Mount* GDrive to store all files"
      ]
    },
    {
      "cell_type": "code",
      "metadata": {
        "id": "6GN35hprebjZ",
        "colab_type": "code",
        "outputId": "f1c73915-fb46-4beb-cdc2-678ad6e4f62a",
        "colab": {
          "base_uri": "https://localhost:8080/",
          "height": 122
        }
      },
      "source": [
        "from google.colab import drive\n",
        "drive.mount('/content/gdrive')"
      ],
      "execution_count": 1,
      "outputs": [
        {
          "output_type": "stream",
          "text": [
            "Go to this URL in a browser: https://accounts.google.com/o/oauth2/auth?client_id=947318989803-6bn6qk8qdgf4n4g3pfee6491hc0brc4i.apps.googleusercontent.com&redirect_uri=urn%3aietf%3awg%3aoauth%3a2.0%3aoob&response_type=code&scope=email%20https%3a%2f%2fwww.googleapis.com%2fauth%2fdocs.test%20https%3a%2f%2fwww.googleapis.com%2fauth%2fdrive%20https%3a%2f%2fwww.googleapis.com%2fauth%2fdrive.photos.readonly%20https%3a%2f%2fwww.googleapis.com%2fauth%2fpeopleapi.readonly\n",
            "\n",
            "Enter your authorization code:\n",
            "··········\n",
            "Mounted at /content/gdrive\n"
          ],
          "name": "stdout"
        }
      ]
    },
    {
      "cell_type": "markdown",
      "metadata": {
        "id": "7EfWGSqCfNTJ",
        "colab_type": "text"
      },
      "source": [
        "Check for working directory path"
      ]
    },
    {
      "cell_type": "code",
      "metadata": {
        "id": "h9oKqwg4fMGK",
        "colab_type": "code",
        "outputId": "ac55e578-b34a-424b-bfa6-a4364559c201",
        "colab": {
          "base_uri": "https://localhost:8080/",
          "height": 34
        }
      },
      "source": [
        "import os\n",
        "os.getcwd()"
      ],
      "execution_count": 2,
      "outputs": [
        {
          "output_type": "execute_result",
          "data": {
            "text/plain": [
              "'/content'"
            ]
          },
          "metadata": {
            "tags": []
          },
          "execution_count": 2
        }
      ]
    },
    {
      "cell_type": "markdown",
      "metadata": {
        "id": "swoCpzMMfSks",
        "colab_type": "text"
      },
      "source": [
        "Change working directory path, I put it on a project folder inside Colab Notebooks folder."
      ]
    },
    {
      "cell_type": "code",
      "metadata": {
        "id": "hdOTlrGqfRu-",
        "colab_type": "code",
        "colab": {}
      },
      "source": [
        "path = os.getcwd() + \"/gdrive/My Drive/Colab Notebooks/projects/word2vec-id\"\n",
        "os.chdir(path)"
      ],
      "execution_count": 0,
      "outputs": []
    },
    {
      "cell_type": "markdown",
      "metadata": {
        "id": "nOikiVFtfcR7",
        "colab_type": "text"
      },
      "source": [
        "Download latest Indonesian Wikipedia Dump"
      ]
    },
    {
      "cell_type": "code",
      "metadata": {
        "id": "S2b4Rfojfbmo",
        "colab_type": "code",
        "outputId": "7d6fe2de-f6b8-4ab4-8135-7d237632b8fc",
        "colab": {
          "base_uri": "https://localhost:8080/",
          "height": 204
        }
      },
      "source": [
        "!wget \"https://dumps.wikimedia.org/idwiki/latest/idwiki-latest-pages-articles.xml.bz2\""
      ],
      "execution_count": 4,
      "outputs": [
        {
          "output_type": "stream",
          "text": [
            "--2020-01-16 07:20:59--  https://dumps.wikimedia.org/idwiki/latest/idwiki-latest-pages-articles.xml.bz2\n",
            "Resolving dumps.wikimedia.org (dumps.wikimedia.org)... 208.80.154.7, 2620:0:861:1:208:80:154:7\n",
            "Connecting to dumps.wikimedia.org (dumps.wikimedia.org)|208.80.154.7|:443... connected.\n",
            "HTTP request sent, awaiting response... 200 OK\n",
            "Length: 562030039 (536M) [application/octet-stream]\n",
            "Saving to: ‘idwiki-latest-pages-articles.xml.bz2.1’\n",
            "\n",
            "idwiki-latest-pages 100%[===================>] 535.99M  4.95MB/s    in 1m 47s  \n",
            "\n",
            "2020-01-16 07:22:46 (5.03 MB/s) - ‘idwiki-latest-pages-articles.xml.bz2.1’ saved [562030039/562030039]\n",
            "\n"
          ],
          "name": "stdout"
        }
      ]
    },
    {
      "cell_type": "markdown",
      "metadata": {
        "id": "VfiurV6lPcxn",
        "colab_type": "text"
      },
      "source": [
        "Import required libs to process articles from dump"
      ]
    },
    {
      "cell_type": "code",
      "metadata": {
        "id": "P_OrDaIagqjq",
        "colab_type": "code",
        "colab": {}
      },
      "source": [
        "import io\n",
        "import time\n",
        "from datetime import timedelta\n",
        "\n",
        "import gensim"
      ],
      "execution_count": 0,
      "outputs": []
    },
    {
      "cell_type": "code",
      "metadata": {
        "id": "Ck7__dqonrF1",
        "colab_type": "code",
        "outputId": "9f8d8448-a0d0-4984-b993-29d2be5d095d",
        "colab": {
          "base_uri": "https://localhost:8080/",
          "height": 714
        }
      },
      "source": [
        "start_time = time.time() # Log time to process articles\n",
        "print('Streaming wiki...')\n",
        "id_wiki = gensim.corpora.WikiCorpus('idwiki-latest-pages-articles.xml.bz2', lemmatize=False, dictionary={})\n",
        "article_count = 0\n",
        "\n",
        "with io.open('idwiki.txt', 'w') as wiki_txt:\n",
        "    for text in id_wiki.get_texts():\n",
        "\n",
        "        wiki_txt.write(\" \".join(text) + '\\n')\n",
        "        article_count += 1\n",
        "\n",
        "        if article_count % 10000 == 0:\n",
        "            print('{} articles processed'.format(article_count))\n",
        "\n",
        "    print('total: {} articles'.format(article_count))\n",
        "\n",
        "finish_time = time.time()\n",
        "print('Elapsed time: {}'.format(timedelta(seconds=finish_time-start_time)))"
      ],
      "execution_count": 9,
      "outputs": [
        {
          "output_type": "stream",
          "text": [
            "Streaming wiki...\n",
            "10000 articles processed\n",
            "20000 articles processed\n",
            "30000 articles processed\n",
            "40000 articles processed\n",
            "50000 articles processed\n",
            "60000 articles processed\n",
            "70000 articles processed\n",
            "80000 articles processed\n",
            "90000 articles processed\n",
            "100000 articles processed\n",
            "110000 articles processed\n",
            "120000 articles processed\n",
            "130000 articles processed\n",
            "140000 articles processed\n",
            "150000 articles processed\n",
            "160000 articles processed\n",
            "170000 articles processed\n",
            "180000 articles processed\n",
            "190000 articles processed\n",
            "200000 articles processed\n",
            "210000 articles processed\n",
            "220000 articles processed\n",
            "230000 articles processed\n",
            "240000 articles processed\n",
            "250000 articles processed\n",
            "260000 articles processed\n",
            "270000 articles processed\n",
            "280000 articles processed\n",
            "290000 articles processed\n",
            "300000 articles processed\n",
            "310000 articles processed\n",
            "320000 articles processed\n",
            "330000 articles processed\n",
            "340000 articles processed\n",
            "350000 articles processed\n",
            "360000 articles processed\n",
            "370000 articles processed\n",
            "380000 articles processed\n",
            "total: 383704 articles\n",
            "Elapsed time: 0:18:11.489473\n"
          ],
          "name": "stdout"
        }
      ]
    },
    {
      "cell_type": "code",
      "metadata": {
        "id": "cpR7d4A-vUGM",
        "colab_type": "code",
        "colab": {}
      },
      "source": [
        "import time\n",
        "import multiprocessing\n",
        "from datetime import timedelta\n",
        "\n",
        "from gensim.models import word2vec"
      ],
      "execution_count": 0,
      "outputs": []
    },
    {
      "cell_type": "code",
      "metadata": {
        "id": "E8Mz_aa6XNzm",
        "colab_type": "code",
        "outputId": "b6423a80-f64d-46f8-d877-8a7b47e74fdf",
        "colab": {
          "base_uri": "https://localhost:8080/",
          "height": 632
        }
      },
      "source": [
        "!sudo apt-get install libblas3 liblapack3 liblapack-dev libblas-dev"
      ],
      "execution_count": 9,
      "outputs": [
        {
          "output_type": "stream",
          "text": [
            "Reading package lists... Done\n",
            "Building dependency tree       \n",
            "Reading state information... Done\n",
            "liblapack-dev is already the newest version (3.7.1-4ubuntu1).\n",
            "liblapack3 is already the newest version (3.7.1-4ubuntu1).\n",
            "liblapack3 set to manually installed.\n",
            "The following package was automatically installed and is no longer required:\n",
            "  libnvidia-common-430\n",
            "Use 'sudo apt autoremove' to remove it.\n",
            "Suggested packages:\n",
            "  liblapack-doc\n",
            "The following NEW packages will be installed:\n",
            "  libblas-dev libblas3\n",
            "0 upgraded, 2 newly installed, 0 to remove and 7 not upgraded.\n",
            "Need to get 283 kB of archives.\n",
            "After this operation, 1,537 kB of additional disk space will be used.\n",
            "Get:1 http://archive.ubuntu.com/ubuntu bionic/main amd64 libblas3 amd64 3.7.1-4ubuntu1 [140 kB]\n",
            "Get:2 http://archive.ubuntu.com/ubuntu bionic/main amd64 libblas-dev amd64 3.7.1-4ubuntu1 [143 kB]\n",
            "Fetched 283 kB in 0s (2,955 kB/s)\n",
            "debconf: unable to initialize frontend: Dialog\n",
            "debconf: (No usable dialog-like program is installed, so the dialog based frontend cannot be used. at /usr/share/perl5/Debconf/FrontEnd/Dialog.pm line 76, <> line 2.)\n",
            "debconf: falling back to frontend: Readline\n",
            "debconf: unable to initialize frontend: Readline\n",
            "debconf: (This frontend requires a controlling tty.)\n",
            "debconf: falling back to frontend: Teletype\n",
            "dpkg-preconfigure: unable to re-open stdin: \n",
            "Selecting previously unselected package libblas3:amd64.\n",
            "(Reading database ... 145674 files and directories currently installed.)\n",
            "Preparing to unpack .../libblas3_3.7.1-4ubuntu1_amd64.deb ...\n",
            "Unpacking libblas3:amd64 (3.7.1-4ubuntu1) ...\n",
            "Selecting previously unselected package libblas-dev:amd64.\n",
            "Preparing to unpack .../libblas-dev_3.7.1-4ubuntu1_amd64.deb ...\n",
            "Unpacking libblas-dev:amd64 (3.7.1-4ubuntu1) ...\n",
            "Setting up libblas3:amd64 (3.7.1-4ubuntu1) ...\n",
            "Setting up libblas-dev:amd64 (3.7.1-4ubuntu1) ...\n"
          ],
          "name": "stdout"
        }
      ]
    },
    {
      "cell_type": "code",
      "metadata": {
        "id": "qKiYFCo7vyMa",
        "colab_type": "code",
        "outputId": "aafb1d6a-494f-4120-f951-aa7628087989",
        "colab": {
          "base_uri": "https://localhost:8080/",
          "height": 105
        }
      },
      "source": [
        "start_time = time.time()\n",
        "print('Training Word2Vec Model...')\n",
        "sentences = word2vec.LineSentence('idwiki.txt')\n",
        "id_w2v = word2vec.Word2Vec(sentences, size=300, workers=multiprocessing.cpu_count()-1)\n",
        "id_w2v.save('model/idwiki_160120_word2vec_300.model')\n",
        "finish_time = time.time()\n",
        "\n",
        "print('Finished. Elapsed time: {}'.format(timedelta(seconds=finish_time-start_time)))"
      ],
      "execution_count": 10,
      "outputs": [
        {
          "output_type": "stream",
          "text": [
            "Training Word2Vec Model...\n"
          ],
          "name": "stdout"
        },
        {
          "output_type": "stream",
          "text": [
            "/usr/local/lib/python3.6/dist-packages/smart_open/smart_open_lib.py:402: UserWarning: This function is deprecated, use smart_open.open instead. See the migration notes for details: https://github.com/RaRe-Technologies/smart_open/blob/master/README.rst#migrating-to-the-new-open-function\n",
            "  'See the migration notes for details: %s' % _MIGRATION_NOTES_URL\n"
          ],
          "name": "stderr"
        },
        {
          "output_type": "stream",
          "text": [
            "Finished. Elapsed time: 0:27:51.389820\n"
          ],
          "name": "stdout"
        }
      ]
    },
    {
      "cell_type": "code",
      "metadata": {
        "id": "zLyN35azwTND",
        "colab_type": "code",
        "outputId": "10a76938-056d-4032-85b8-4c26a4f0182d",
        "colab": {
          "base_uri": "https://localhost:8080/",
          "height": 71
        }
      },
      "source": [
        "id_w2v = gensim.models.Word2Vec.load(\"model/idwiki_160120_word2vec_300.model\")"
      ],
      "execution_count": 11,
      "outputs": [
        {
          "output_type": "stream",
          "text": [
            "/usr/local/lib/python3.6/dist-packages/smart_open/smart_open_lib.py:402: UserWarning: This function is deprecated, use smart_open.open instead. See the migration notes for details: https://github.com/RaRe-Technologies/smart_open/blob/master/README.rst#migrating-to-the-new-open-function\n",
            "  'See the migration notes for details: %s' % _MIGRATION_NOTES_URL\n"
          ],
          "name": "stderr"
        }
      ]
    },
    {
      "cell_type": "code",
      "metadata": {
        "id": "6bYVZ5o2hM_W",
        "colab_type": "code",
        "outputId": "8d8709a7-8cbc-4056-8dd9-25435dd09b6c",
        "colab": {
          "base_uri": "https://localhost:8080/",
          "height": 156
        }
      },
      "source": [
        "id_w2v.wv.most_similar(positive=['jakarta', 'kota'], negative=['bandung'], topn=5)"
      ],
      "execution_count": 12,
      "outputs": [
        {
          "output_type": "stream",
          "text": [
            "/usr/local/lib/python3.6/dist-packages/gensim/matutils.py:737: FutureWarning: Conversion of the second argument of issubdtype from `int` to `np.signedinteger` is deprecated. In future, it will be treated as `np.int64 == np.dtype(int).type`.\n",
            "  if np.issubdtype(vec.dtype, np.int):\n"
          ],
          "name": "stderr"
        },
        {
          "output_type": "execute_result",
          "data": {
            "text/plain": [
              "[('kotanya', 0.5498558282852173),\n",
              " ('kawasan', 0.4526030123233795),\n",
              " ('perbelanjaan', 0.4419528841972351),\n",
              " ('kotakan', 0.4284716248512268),\n",
              " ('daerah', 0.41744834184646606)]"
            ]
          },
          "metadata": {
            "tags": []
          },
          "execution_count": 12
        }
      ]
    },
    {
      "cell_type": "code",
      "metadata": {
        "id": "F9z0_RytijYx",
        "colab_type": "code",
        "outputId": "4de00058-d3a9-44c1-e616-fb365cd6a30b",
        "colab": {
          "base_uri": "https://localhost:8080/",
          "height": 241
        }
      },
      "source": [
        "id_w2v.wv.similar_by_word('jakarta', topn=10, restrict_vocab=None)"
      ],
      "execution_count": 13,
      "outputs": [
        {
          "output_type": "stream",
          "text": [
            "/usr/local/lib/python3.6/dist-packages/gensim/matutils.py:737: FutureWarning: Conversion of the second argument of issubdtype from `int` to `np.signedinteger` is deprecated. In future, it will be treated as `np.int64 == np.dtype(int).type`.\n",
            "  if np.issubdtype(vec.dtype, np.int):\n"
          ],
          "name": "stderr"
        },
        {
          "output_type": "execute_result",
          "data": {
            "text/plain": [
              "[('surabaya', 0.6319809556007385),\n",
              " ('bandung', 0.5992445349693298),\n",
              " ('warteg', 0.5984274744987488),\n",
              " ('bekasi', 0.5729752779006958),\n",
              " ('ciputat', 0.5648460388183594),\n",
              " ('bogor', 0.5613160729408264),\n",
              " ('semarang', 0.5518391132354736),\n",
              " ('yogyakarta', 0.5498552322387695),\n",
              " ('cikarang', 0.5347882509231567),\n",
              " ('denpasar', 0.5292714834213257)]"
            ]
          },
          "metadata": {
            "tags": []
          },
          "execution_count": 13
        }
      ]
    },
    {
      "cell_type": "code",
      "metadata": {
        "id": "CfZozApK1XwX",
        "colab_type": "code",
        "outputId": "4c730c5d-4e51-468d-b364-da36cee56a7f",
        "colab": {
          "base_uri": "https://localhost:8080/",
          "height": 1000
        }
      },
      "source": [
        "id_w2v.wv.similar_by_word('astra', topn=100, restrict_vocab=None)"
      ],
      "execution_count": 14,
      "outputs": [
        {
          "output_type": "stream",
          "text": [
            "/usr/local/lib/python3.6/dist-packages/gensim/matutils.py:737: FutureWarning: Conversion of the second argument of issubdtype from `int` to `np.signedinteger` is deprecated. In future, it will be treated as `np.int64 == np.dtype(int).type`.\n",
            "  if np.issubdtype(vec.dtype, np.int):\n"
          ],
          "name": "stderr"
        },
        {
          "output_type": "execute_result",
          "data": {
            "text/plain": [
              "[('indomobil', 0.6634615659713745),\n",
              " ('investama', 0.6119204759597778),\n",
              " ('corp', 0.6034576296806335),\n",
              " ('tbk', 0.5813701152801514),\n",
              " ('telkommetra', 0.5764837265014648),\n",
              " ('finance', 0.5733456611633301),\n",
              " ('chrysler', 0.5731425881385803),\n",
              " ('indosat', 0.5677300691604614),\n",
              " ('realty', 0.5660027265548706),\n",
              " ('corsa', 0.5640536546707153),\n",
              " ('kalbe', 0.56389981508255),\n",
              " ('kymco', 0.562209963798523),\n",
              " ('automotive', 0.5576309561729431),\n",
              " ('daihatsu', 0.553754985332489),\n",
              " ('volvo', 0.5482820272445679),\n",
              " ('adaro', 0.5470991730690002),\n",
              " ('vauxhall', 0.5461435914039612),\n",
              " ('telin', 0.5449400544166565),\n",
              " ('pt', 0.5445101857185364),\n",
              " ('graphia', 0.5423668622970581),\n",
              " ('gojek', 0.5421485304832458),\n",
              " ('cheil', 0.5420079827308655),\n",
              " ('venture', 0.5419203042984009),\n",
              " ('thyssenkrupp', 0.5395154356956482),\n",
              " ('leasing', 0.5372434854507446),\n",
              " ('texmaco', 0.5363011360168457),\n",
              " ('sinarmas', 0.5352399349212646),\n",
              " ('perusahaannya', 0.5341745018959045),\n",
              " ('motors', 0.5327680110931396),\n",
              " ('elevenia', 0.5316752791404724),\n",
              " ('mitsubishi', 0.530807614326477),\n",
              " ('consulting', 0.5307359099388123),\n",
              " ('bridgestone', 0.5302252769470215),\n",
              " ('investment', 0.530218243598938),\n",
              " ('opel', 0.5297081470489502),\n",
              " ('insurance', 0.5296832323074341),\n",
              " ('medco', 0.5289463400840759),\n",
              " ('hsbc', 0.5286979079246521),\n",
              " ('holding', 0.5283600091934204),\n",
              " ('danareksa', 0.52824866771698),\n",
              " ('unilever', 0.5279319882392883),\n",
              " ('trucks', 0.5278705358505249),\n",
              " ('exxonmobil', 0.5277450680732727),\n",
              " ('hcpt', 0.5256081819534302),\n",
              " ('daewoo', 0.5244406461715698),\n",
              " ('konica', 0.5230280160903931),\n",
              " ('sucofindo', 0.5228949785232544),\n",
              " ('manufacturing', 0.5227543115615845),\n",
              " ('industries', 0.521442174911499),\n",
              " ('honeywell', 0.5208406448364258),\n",
              " ('technologies', 0.5202880501747131),\n",
              " ('indofood', 0.5178901553153992),\n",
              " ('gts', 0.517765998840332),\n",
              " ('telkom', 0.5162551403045654),\n",
              " ('plc', 0.5157456994056702),\n",
              " ('ocbc', 0.5152650475502014),\n",
              " ('maybank', 0.5145384073257446),\n",
              " ('holdings', 0.5144556760787964),\n",
              " ('minolta', 0.5141659379005432),\n",
              " ('hyundai', 0.5129092931747437),\n",
              " ('fujifilm', 0.5127436518669128),\n",
              " ('sampoerna', 0.5123481750488281),\n",
              " ('reliance', 0.5121357440948486),\n",
              " ('electrolux', 0.5119380950927734),\n",
              " ('bakrie', 0.5116565823554993),\n",
              " ('corporindo', 0.5114827156066895),\n",
              " ('viar', 0.5108625888824463),\n",
              " ('securities', 0.5108394026756287),\n",
              " ('recapital', 0.5105022192001343),\n",
              " ('sumitomo', 0.5100467205047607),\n",
              " ('artajasa', 0.5098975300788879),\n",
              " ('mufg', 0.5088441371917725),\n",
              " ('telkomsel', 0.5081888437271118),\n",
              " ('automobile', 0.5079509615898132),\n",
              " ('saic', 0.507681667804718),\n",
              " ('garudafood', 0.5071796178817749),\n",
              " ('nojorono', 0.5071133971214294),\n",
              " ('ooredoo', 0.5070217847824097),\n",
              " ('cimb', 0.5065711140632629),\n",
              " ('amartha', 0.5053671598434448),\n",
              " ('stc', 0.5040847063064575),\n",
              " ('fintech', 0.503495454788208),\n",
              " ('apparel', 0.5032984018325806),\n",
              " ('jedang', 0.5019860863685608),\n",
              " ('pindad', 0.5015878677368164),\n",
              " ('funding', 0.5014636516571045),\n",
              " ('telecom', 0.5005090236663818),\n",
              " ('singtel', 0.49950891733169556),\n",
              " ('corporate', 0.499208003282547),\n",
              " ('alcatel', 0.49882692098617554),\n",
              " ('axiata', 0.49818313121795654),\n",
              " ('wismilak', 0.4971308708190918),\n",
              " ('brands', 0.496914267539978),\n",
              " ('bukalapak', 0.4966491758823395),\n",
              " ('elnusa', 0.4964756369590759),\n",
              " ('danone', 0.4956085681915283),\n",
              " ('corpora', 0.4949972927570343),\n",
              " ('fiat', 0.49457207322120667),\n",
              " ('adira', 0.494486540555954),\n",
              " ('presdir', 0.49447739124298096)]"
            ]
          },
          "metadata": {
            "tags": []
          },
          "execution_count": 14
        }
      ]
    }
  ]
}